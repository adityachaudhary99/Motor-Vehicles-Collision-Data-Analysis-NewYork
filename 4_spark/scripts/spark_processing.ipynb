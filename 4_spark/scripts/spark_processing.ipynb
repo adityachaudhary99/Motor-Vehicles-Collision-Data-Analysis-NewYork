{
 "cells": [
  {
   "cell_type": "code",
   "execution_count": 1,
   "id": "e2f5a10d-8c32-490a-bb68-2a743fbdcb3a",
   "metadata": {
    "tags": []
   },
   "outputs": [],
   "source": [
    "import pyspark\n",
    "from pyspark.sql import SparkSession\n",
    "\n",
    "import pandas as pd"
   ]
  },
  {
   "cell_type": "code",
   "execution_count": 2,
   "id": "8dc019c7-7192-4de3-9c39-41048787459e",
   "metadata": {
    "tags": []
   },
   "outputs": [],
   "source": [
    "from pyspark.sql import types\n",
    "from pyspark.sql import functions as F"
   ]
  },
  {
   "cell_type": "code",
   "execution_count": 3,
   "id": "2514da9b-e5e2-4d0d-8e29-a969ef75dda3",
   "metadata": {
    "tags": []
   },
   "outputs": [],
   "source": [
    "spark = SparkSession.builder \\\n",
    "        .master(\"local[*]\") \\\n",
    "        .appName('test') \\\n",
    "        .getOrCreate()\n",
    "\n",
    "spark_df = spark.read \\\n",
    "            .format('csv') \\\n",
    "            .option('header', 'true') \\\n",
    "            .option('inferSchema','true') \\\n",
    "            .load(\"../../1_ingestion/data/dataframe.csv\")  # just writing for reference, add your own absolute path"
   ]
  },
  {
   "cell_type": "code",
   "execution_count": 4,
   "id": "e745f5cd-9843-4da1-a4b7-0f36baebd493",
   "metadata": {
    "tags": []
   },
   "outputs": [
    {
     "name": "stdout",
     "output_type": "stream",
     "text": [
      "root\n",
      " |-- CRASH DATE: string (nullable = true)\n",
      " |-- CRASH TIME: string (nullable = true)\n",
      " |-- BOROUGH: string (nullable = true)\n",
      " |-- ZIP CODE: string (nullable = true)\n",
      " |-- LATITUDE: double (nullable = true)\n",
      " |-- LONGITUDE: double (nullable = true)\n",
      " |-- LOCATION: string (nullable = true)\n",
      " |-- ON STREET NAME: string (nullable = true)\n",
      " |-- CROSS STREET NAME: string (nullable = true)\n",
      " |-- OFF STREET NAME: string (nullable = true)\n",
      " |-- NUMBER OF PERSONS INJURED: string (nullable = true)\n",
      " |-- NUMBER OF PERSONS KILLED: integer (nullable = true)\n",
      " |-- NUMBER OF PEDESTRIANS INJURED: integer (nullable = true)\n",
      " |-- NUMBER OF PEDESTRIANS KILLED: integer (nullable = true)\n",
      " |-- NUMBER OF CYCLIST INJURED: integer (nullable = true)\n",
      " |-- NUMBER OF CYCLIST KILLED: string (nullable = true)\n",
      " |-- NUMBER OF MOTORIST INJURED: string (nullable = true)\n",
      " |-- NUMBER OF MOTORIST KILLED: integer (nullable = true)\n",
      " |-- CONTRIBUTING FACTOR VEHICLE 1: string (nullable = true)\n",
      " |-- CONTRIBUTING FACTOR VEHICLE 2: string (nullable = true)\n",
      " |-- CONTRIBUTING FACTOR VEHICLE 3: string (nullable = true)\n",
      " |-- CONTRIBUTING FACTOR VEHICLE 4: string (nullable = true)\n",
      " |-- CONTRIBUTING FACTOR VEHICLE 5: string (nullable = true)\n",
      " |-- COLLISION_ID: integer (nullable = true)\n",
      " |-- VEHICLE TYPE CODE 1: string (nullable = true)\n",
      " |-- VEHICLE TYPE CODE 2: string (nullable = true)\n",
      " |-- VEHICLE TYPE CODE 3: string (nullable = true)\n",
      " |-- VEHICLE TYPE CODE 4: string (nullable = true)\n",
      " |-- VEHICLE TYPE CODE 5: string (nullable = true)\n",
      "\n"
     ]
    }
   ],
   "source": [
    "spark_df.printSchema()"
   ]
  },
  {
   "cell_type": "code",
   "execution_count": 5,
   "id": "64626458-ac6a-4662-b5f5-d95b474d0b72",
   "metadata": {
    "tags": []
   },
   "outputs": [],
   "source": [
    "columns_to_drop = ['LATITUDE','LONGITUDE','LOCATION','CROSS STREET NAME','OFF STREET NAME','CONTRIBUTING FACTOR VEHICLE 2','CONTRIBUTING FACTOR VEHICLE 3','CONTRIBUTING FACTOR VEHICLE 4','CONTRIBUTING FACTOR VEHICLE 5','VEHICLE TYPE CODE 2','VEHICLE TYPE CODE 3','VEHICLE TYPE CODE 4','VEHICLE TYPE CODE 5']\n",
    "\n",
    "spark_df = spark_df.drop(*columns_to_drop)"
   ]
  },
  {
   "cell_type": "code",
   "execution_count": 6,
   "id": "5b995c52-74d0-4385-9704-e6c4b04bfe25",
   "metadata": {
    "tags": []
   },
   "outputs": [
    {
     "name": "stdout",
     "output_type": "stream",
     "text": [
      "+----------+----------+---------+--------+--------------------+-------------------------+------------------------+-----------------------------+----------------------------+-------------------------+------------------------+--------------------------+-------------------------+-----------------------------+------------+--------------------+\n",
      "|CRASH DATE|CRASH TIME|  BOROUGH|ZIP CODE|      ON STREET NAME|NUMBER OF PERSONS INJURED|NUMBER OF PERSONS KILLED|NUMBER OF PEDESTRIANS INJURED|NUMBER OF PEDESTRIANS KILLED|NUMBER OF CYCLIST INJURED|NUMBER OF CYCLIST KILLED|NUMBER OF MOTORIST INJURED|NUMBER OF MOTORIST KILLED|CONTRIBUTING FACTOR VEHICLE 1|COLLISION_ID| VEHICLE TYPE CODE 1|\n",
      "+----------+----------+---------+--------+--------------------+-------------------------+------------------------+-----------------------------+----------------------------+-------------------------+------------------------+--------------------------+-------------------------+-----------------------------+------------+--------------------+\n",
      "|09/11/2021|      2:39|     NULL|    NULL|WHITESTONE EXPRES...|                        2|                       0|                            0|                           0|                        0|                       0|                         2|                        0|         Aggressive Drivin...|     4455765|               Sedan|\n",
      "|03/26/2022|     11:45|     NULL|    NULL|QUEENSBORO BRIDGE...|                        1|                       0|                            0|                           0|                        0|                       0|                         1|                        0|            Pavement Slippery|     4513547|               Sedan|\n",
      "|06/29/2022|      6:55|     NULL|    NULL|  THROGS NECK BRIDGE|                        0|                       0|                            0|                           0|                        0|                       0|                         0|                        0|         Following Too Clo...|     4541903|               Sedan|\n",
      "|09/11/2021|      9:35| BROOKLYN|   11208|                NULL|                        0|                       0|                            0|                           0|                        0|                       0|                         0|                        0|                  Unspecified|     4456314|               Sedan|\n",
      "|12/14/2021|      8:13| BROOKLYN|   11233|     SARATOGA AVENUE|                        0|                       0|                            0|                           0|                        0|                       0|                         0|                        0|                         NULL|     4486609|                NULL|\n",
      "|04/14/2021|     12:47|     NULL|    NULL|MAJOR DEEGAN EXPR...|                        0|                       0|                            0|                           0|                        0|                       0|                         0|                        0|                  Unspecified|     4407458|                Dump|\n",
      "|12/14/2021|     17:05|     NULL|    NULL|BROOKLYN QUEENS E...|                        0|                       0|                            0|                           0|                        0|                       0|                         0|                        0|          Passing Too Closely|     4486555|               Sedan|\n",
      "|12/14/2021|      8:17|    BRONX|   10475|                NULL|                        2|                       0|                            0|                           0|                        0|                       0|                         2|                        0|                  Unspecified|     4486660|               Sedan|\n",
      "|12/14/2021|     21:10| BROOKLYN|   11207|                NULL|                        0|                       0|                            0|                           0|                        0|                       0|                         0|                        0|          Driver Inexperience|     4487074|               Sedan|\n",
      "|12/14/2021|     14:58|MANHATTAN|   10017|            3 AVENUE|                        0|                       0|                            0|                           0|                        0|                       0|                         0|                        0|          Passing Too Closely|     4486519|               Sedan|\n",
      "|12/13/2021|      0:34|     NULL|    NULL|       MYRTLE AVENUE|                        0|                       0|                            0|                           0|                        0|                       0|                         0|                        0|         Passing or Lane U...|     4486934|Station Wagon/Spo...|\n",
      "|12/14/2021|     16:50|   QUEENS|   11413|SPRINGFIELD BOULE...|                        0|                       0|                            0|                           0|                        0|                       0|                         0|                        0|           Turning Improperly|     4487127|               Sedan|\n",
      "|12/14/2021|      8:30|     NULL|    NULL|            broadway|                        0|                       0|                            0|                           0|                        0|                       0|                         0|                        0|         Unsafe Lane Changing|     4486634|Station Wagon/Spo...|\n",
      "|12/14/2021|      0:59|     NULL|    NULL|        BELT PARKWAY|                        0|                       0|                            0|                           0|                        0|                       0|                         0|                        0|                 Unsafe Speed|     4486564|               Sedan|\n",
      "|12/14/2021|     23:10|   QUEENS|   11434|NORTH CONDUIT AVENUE|                        2|                       0|                            0|                           0|                        0|                       0|                         2|                        0|         Reaction to Uninv...|     4486635|               Sedan|\n",
      "|12/14/2021|     17:58| BROOKLYN|   11217|                NULL|                        0|                       0|                            0|                           0|                        0|                       0|                         0|                        0|          Passing Too Closely|     4486604|              Tanker|\n",
      "|12/14/2021|     20:03| BROOKLYN|   11226|                NULL|                        4|                       0|                            0|                           0|                        0|                       0|                         4|                        0|             Steering Failure|     4486991|               Sedan|\n",
      "|12/14/2021|      1:28|     NULL|    NULL|       MEEKER AVENUE|                        3|                       0|                            0|                           0|                        0|                       0|                         3|                        0|         Traffic Control D...|     4486284|Station Wagon/Spo...|\n",
      "|12/11/2021|     19:43|    BRONX|   10463|WEST KINGSBRIDGE ...|                        1|                       0|                            0|                           0|                        0|                       0|                         1|                        0|                  Unspecified|     4487040|Station Wagon/Spo...|\n",
      "|12/14/2021|     14:30|     NULL|    NULL|WHITESTONE EXPRES...|                        0|                       0|                            0|                           0|                        0|                       0|                         0|                        0|         Following Too Clo...|     4486537|Station Wagon/Spo...|\n",
      "+----------+----------+---------+--------+--------------------+-------------------------+------------------------+-----------------------------+----------------------------+-------------------------+------------------------+--------------------------+-------------------------+-----------------------------+------------+--------------------+\n",
      "only showing top 20 rows\n",
      "\n"
     ]
    }
   ],
   "source": [
    "spark_df.show()"
   ]
  },
  {
   "cell_type": "code",
   "execution_count": 7,
   "id": "edb114cb-1cff-4109-9cc4-9e6b43ad5eba",
   "metadata": {
    "tags": []
   },
   "outputs": [
    {
     "data": {
      "text/plain": [
       "2076253"
      ]
     },
     "execution_count": 7,
     "metadata": {},
     "output_type": "execute_result"
    }
   ],
   "source": [
    "spark_df.count()"
   ]
  },
  {
   "cell_type": "code",
   "execution_count": 8,
   "id": "0f984b8a-f417-436d-9e8a-93df76b986e4",
   "metadata": {
    "tags": []
   },
   "outputs": [
    {
     "data": {
      "text/plain": [
       "['CRASH DATE',\n",
       " 'CRASH TIME',\n",
       " 'BOROUGH',\n",
       " 'ZIP CODE',\n",
       " 'ON STREET NAME',\n",
       " 'NUMBER OF PERSONS INJURED',\n",
       " 'NUMBER OF PERSONS KILLED',\n",
       " 'NUMBER OF PEDESTRIANS INJURED',\n",
       " 'NUMBER OF PEDESTRIANS KILLED',\n",
       " 'NUMBER OF CYCLIST INJURED',\n",
       " 'NUMBER OF CYCLIST KILLED',\n",
       " 'NUMBER OF MOTORIST INJURED',\n",
       " 'NUMBER OF MOTORIST KILLED',\n",
       " 'CONTRIBUTING FACTOR VEHICLE 1',\n",
       " 'COLLISION_ID',\n",
       " 'VEHICLE TYPE CODE 1']"
      ]
     },
     "execution_count": 8,
     "metadata": {},
     "output_type": "execute_result"
    }
   ],
   "source": [
    "spark_df.columns"
   ]
  },
  {
   "cell_type": "code",
   "execution_count": 9,
   "id": "819c5f89-6687-4012-a6df-ee8772e5d787",
   "metadata": {
    "tags": []
   },
   "outputs": [],
   "source": [
    "BUCKET = 'raw-bucket-911'\n",
    "FILE_NAME = 'proccessed_collisions'\n",
    "OUTPUT_PATH = \"C:/Users/adity/Downloads/dataframe\"\n",
    "\n",
    "for column in spark_df.columns:\n",
    "    spark_df = spark_df \\\n",
    "            .withColumnRenamed(column, column.lower().replace(' ', '_'))\n",
    "    \n",
    "spark_df = spark_df \\\n",
    "        .withColumnRenamed('on_street_name', 'street_name') \\\n",
    "        .withColumnRenamed('number_of_persons_injured', 'persons_injured') \\\n",
    "        .withColumnRenamed('number_of_persons_killed', 'persons_killed') \\\n",
    "        .withColumnRenamed('number_of_pedestrians_injured', 'pedestrians_injured') \\\n",
    "        .withColumnRenamed('number_of_pedestrians_killed', 'pedestrians_killed') \\\n",
    "        .withColumnRenamed('number_of_cyclist_injured', 'cyclists_injured') \\\n",
    "        .withColumnRenamed('number_of_cyclist_killed', 'cyclists_killed') \\\n",
    "        .withColumnRenamed('number_of_motorist_injured', 'motorists_injured') \\\n",
    "        .withColumnRenamed('number_of_motorist_killed', 'motorists_killed') \\\n",
    "        .withColumnRenamed('contributing_factor_vehicle_1', 'contributing_factor') \\\n",
    "        .withColumnRenamed('vehicle_type_code_1', 'vehicle_type')\n",
    "\n",
    "spark_df = spark_df.withColumn(\"borough\", F.col(\"borough\").cast(\"string\")) \\\n",
    "    .withColumn(\"street_name\", F.col(\"street_name\").cast(\"string\")) \\\n",
    "    .withColumn(\"contributing_factor\", F.col(\"contributing_factor\").cast(\"string\")) \\\n",
    "    .withColumn(\"vehicle_type\", F.col(\"vehicle_type\").cast(\"string\")) \\\n",
    "    .withColumn('crash_time', F.date_format(F.col('crash_time'), 'HH:mm:ss')) \\\n",
    "    .withColumn(\"crash_date\", F.to_date(F.col(\"crash_date\"),\"MM/dd/yyyy\")) \\\n",
    "    .withColumn('timestamp', F.to_timestamp(F.concat(F.col('crash_date'), F.lit(' '), F.col('crash_time')), 'yyyy-MM-dd HH:mm:ss')) \\\n",
    "    .withColumn(\"zip_code\", F.col(\"zip_code\").cast(\"int\")) \\\n",
    "    .withColumn(\"persons_injured\", F.col(\"persons_injured\").cast(\"int\")) \\\n",
    "    .withColumn(\"persons_killed\", F.col(\"persons_killed\").cast(\"int\")) \\\n",
    "    .withColumn(\"pedestrians_injured\", F.col(\"pedestrians_injured\").cast(\"int\")) \\\n",
    "    .withColumn(\"pedestrians_killed\", F.col(\"pedestrians_killed\").cast(\"int\")) \\\n",
    "    .withColumn(\"cyclists_injured\", F.col(\"cyclists_injured\").cast(\"int\")) \\\n",
    "    .withColumn(\"cyclists_killed\", F.col(\"cyclists_killed\").cast(\"int\")) \\\n",
    "    .withColumn(\"motorists_injured\", F.col(\"motorists_injured\").cast(\"int\")) \\\n",
    "    .withColumn(\"motorists_killed\", F.col(\"motorists_killed\").cast(\"int\")) \\\n",
    "    .withColumn(\"collision_id\", F.col(\"collision_id\").cast(\"int\"))\n",
    "\n",
    "spark_df = spark_df.na.drop()"
   ]
  },
  {
   "cell_type": "code",
   "execution_count": 10,
   "id": "f42f643d-359d-449b-a9a4-c01019c3188f",
   "metadata": {
    "tags": []
   },
   "outputs": [
    {
     "name": "stdout",
     "output_type": "stream",
     "text": [
      "+----------+----------+-------------+--------+--------------------+---------------+--------------+-------------------+------------------+----------------+---------------+-----------------+----------------+--------------------+------------+--------------------+-------------------+\n",
      "|crash_date|crash_time|      borough|zip_code|         street_name|persons_injured|persons_killed|pedestrians_injured|pedestrians_killed|cyclists_injured|cyclists_killed|motorists_injured|motorists_killed| contributing_factor|collision_id|        vehicle_type|          timestamp|\n",
      "+----------+----------+-------------+--------+--------------------+---------------+--------------+-------------------+------------------+----------------+---------------+-----------------+----------------+--------------------+------------+--------------------+-------------------+\n",
      "|2021-12-14|  14:58:00|    MANHATTAN|   10017|            3 AVENUE|              0|             0|                  0|                 0|               0|              0|                0|               0| Passing Too Closely|     4486519|               Sedan|2021-12-14 14:58:00|\n",
      "|2021-12-14|  16:50:00|       QUEENS|   11413|SPRINGFIELD BOULE...|              0|             0|                  0|                 0|               0|              0|                0|               0|  Turning Improperly|     4487127|               Sedan|2021-12-14 16:50:00|\n",
      "|2021-12-14|  23:10:00|       QUEENS|   11434|NORTH CONDUIT AVENUE|              2|             0|                  0|                 0|               0|              0|                2|               0|Reaction to Uninv...|     4486635|               Sedan|2021-12-14 23:10:00|\n",
      "|2021-12-11|  19:43:00|        BRONX|   10463|WEST KINGSBRIDGE ...|              1|             0|                  0|                 0|               0|              0|                1|               0|         Unspecified|     4487040|Station Wagon/Spo...|2021-12-11 19:43:00|\n",
      "|2021-12-13|  06:30:00|       QUEENS|   11372|           82 STREET|              0|             0|                  0|                 0|               0|              0|                0|               0|         Unspecified|     4486967|               Sedan|2021-12-13 06:30:00|\n",
      "|2021-12-13|  17:40:00|STATEN ISLAND|   10301|   VICTORY BOULEVARD|              1|             0|                  0|                 0|               0|              0|                1|               0|         Unspecified|     4487001|               Sedan|2021-12-13 17:40:00|\n",
      "|2021-12-14|  17:31:00|     BROOKLYN|   11230|      EAST 18 STREET|              1|             0|                  1|                 0|               0|              0|                0|               0|         Unspecified|     4486516|               Sedan|2021-12-14 17:31:00|\n",
      "|2021-12-14|  12:54:00|     BROOKLYN|   11217|       FULTON STREET|              1|             0|                  0|                 0|               1|              0|                0|               0|         Unspecified|     4487052|               Sedan|2021-12-14 12:54:00|\n",
      "|2021-12-14|  17:15:00|     BROOKLYN|   11211|        GRAND STREET|              1|             0|                  0|                 0|               0|              0|                1|               0|Passing or Lane U...|     4486556|                 Bus|2021-12-14 17:15:00|\n",
      "|2022-04-24|  21:40:00|        BRONX|   10452|      BOSCOBEL PLACE|              0|             0|                  0|                 0|               0|              0|                0|               0| Alcohol Involvement|     4522156|                Taxi|2022-04-24 21:40:00|\n",
      "|2022-04-24|  17:45:00|        BRONX|   10466| BRONX RIVER PARKWAY|              0|             0|                  0|                 0|               0|              0|                0|               0|Driver Inattentio...|     4521633|               Sedan|2022-04-24 17:45:00|\n",
      "|2022-04-24|  00:00:00|        BRONX|   10453|MAJOR DEEGAN EXPR...|              0|             0|                  0|                 0|               0|              0|                0|               0|Driver Inattentio...|     4521801|               Sedan|2022-04-24 00:00:00|\n",
      "|2022-04-24|  15:35:00|    MANHATTAN|   10019|      WEST 56 STREET|              1|             0|                  0|                 0|               1|              0|                0|               0|View Obstructed/L...|     4521853|Station Wagon/Spo...|2022-04-24 15:35:00|\n",
      "|2022-04-22|  12:00:00|     BROOKLYN|   11230|            AVENUE J|              1|             0|                  0|                 0|               0|              0|                1|               0|         Unspecified|     4522228|               Sedan|2022-04-22 12:00:00|\n",
      "|2022-04-24|  04:20:00|     BROOKLYN|   11221|       THROOP AVENUE|              1|             0|                  0|                 0|               0|              0|                1|               0|Traffic Control D...|     4522167|Station Wagon/Spo...|2022-04-24 04:20:00|\n",
      "|2022-04-12|  19:56:00|     BROOKLYN|   11203|        UTICA AVENUE|              1|             0|                  1|                 0|               0|              0|                0|               0|Failure to Yield ...|     4522136|Station Wagon/Spo...|2022-04-12 19:56:00|\n",
      "|2022-04-24|  15:21:00|       QUEENS|   11101|      THOMSON AVENUE|              1|             0|                  0|                 0|               0|              0|                1|               0|Driver Inattentio...|     4521590|               Sedan|2022-04-24 15:21:00|\n",
      "|2022-04-24|  21:00:00|       QUEENS|   11106|           21 STREET|              1|             0|                  0|                 0|               0|              0|                1|               0|Driver Inattentio...|     4521684|               Sedan|2022-04-24 21:00:00|\n",
      "|2022-04-24|  21:40:00|       QUEENS|   11418|      JAMAICA AVENUE|              0|             0|                  0|                 0|               0|              0|                0|               0|Reaction to Uninv...|     4521858|           Ambulance|2022-04-24 21:40:00|\n",
      "|2022-04-07|  14:14:00|    MANHATTAN|   10017|            1 AVENUE|              0|             0|                  0|                 0|               0|              0|                0|               0|Driver Inattentio...|     4522242|               Sedan|2022-04-07 14:14:00|\n",
      "+----------+----------+-------------+--------+--------------------+---------------+--------------+-------------------+------------------+----------------+---------------+-----------------+----------------+--------------------+------------+--------------------+-------------------+\n",
      "only showing top 20 rows\n",
      "\n"
     ]
    }
   ],
   "source": [
    "spark_df.show()"
   ]
  },
  {
   "cell_type": "code",
   "execution_count": 11,
   "id": "c5cda2b7-bfcd-4993-ab2a-559935c5b832",
   "metadata": {
    "tags": []
   },
   "outputs": [
    {
     "data": {
      "text/plain": [
       "1107159"
      ]
     },
     "execution_count": 11,
     "metadata": {},
     "output_type": "execute_result"
    }
   ],
   "source": [
    "spark_df.count()"
   ]
  },
  {
   "cell_type": "code",
   "execution_count": 12,
   "id": "73552a50-e47c-412e-9435-12398a0dfc56",
   "metadata": {
    "tags": []
   },
   "outputs": [
    {
     "name": "stdout",
     "output_type": "stream",
     "text": [
      "root\n",
      " |-- crash_date: date (nullable = true)\n",
      " |-- crash_time: string (nullable = true)\n",
      " |-- borough: string (nullable = true)\n",
      " |-- zip_code: integer (nullable = true)\n",
      " |-- street_name: string (nullable = true)\n",
      " |-- persons_injured: integer (nullable = true)\n",
      " |-- persons_killed: integer (nullable = true)\n",
      " |-- pedestrians_injured: integer (nullable = true)\n",
      " |-- pedestrians_killed: integer (nullable = true)\n",
      " |-- cyclists_injured: integer (nullable = true)\n",
      " |-- cyclists_killed: integer (nullable = true)\n",
      " |-- motorists_injured: integer (nullable = true)\n",
      " |-- motorists_killed: integer (nullable = true)\n",
      " |-- contributing_factor: string (nullable = true)\n",
      " |-- collision_id: integer (nullable = true)\n",
      " |-- vehicle_type: string (nullable = true)\n",
      " |-- timestamp: timestamp (nullable = true)\n",
      "\n"
     ]
    }
   ],
   "source": [
    "spark_df.printSchema()"
   ]
  },
  {
   "cell_type": "code",
   "execution_count": 13,
   "id": "56f4f33d-b2c5-4647-bb83-09a3a3b43623",
   "metadata": {
    "tags": []
   },
   "outputs": [],
   "source": [
    "spark_df.repartition(1).write.parquet(OUTPUT_PATH, mode='overwrite')"
   ]
  },
  {
   "cell_type": "code",
   "execution_count": 14,
   "id": "d9753049-2a41-4fda-9439-247f200744e0",
   "metadata": {
    "tags": []
   },
   "outputs": [],
   "source": [
    "df = spark.read.parquet(OUTPUT_PATH)"
   ]
  },
  {
   "cell_type": "code",
   "execution_count": 15,
   "id": "82f2d666-890c-42cd-bd3e-b05b05cc46df",
   "metadata": {
    "tags": []
   },
   "outputs": [
    {
     "name": "stdout",
     "output_type": "stream",
     "text": [
      "+----------+----------+-------------+--------+--------------------+---------------+--------------+-------------------+------------------+----------------+---------------+-----------------+----------------+--------------------+------------+--------------------+-------------------+\n",
      "|crash_date|crash_time|      borough|zip_code|         street_name|persons_injured|persons_killed|pedestrians_injured|pedestrians_killed|cyclists_injured|cyclists_killed|motorists_injured|motorists_killed| contributing_factor|collision_id|        vehicle_type|          timestamp|\n",
      "+----------+----------+-------------+--------+--------------------+---------------+--------------+-------------------+------------------+----------------+---------------+-----------------+----------------+--------------------+------------+--------------------+-------------------+\n",
      "|2021-12-14|  14:58:00|    MANHATTAN|   10017|            3 AVENUE|              0|             0|                  0|                 0|               0|              0|                0|               0| Passing Too Closely|     4486519|               Sedan|2021-12-14 14:58:00|\n",
      "|2021-12-14|  16:50:00|       QUEENS|   11413|SPRINGFIELD BOULE...|              0|             0|                  0|                 0|               0|              0|                0|               0|  Turning Improperly|     4487127|               Sedan|2021-12-14 16:50:00|\n",
      "|2021-12-14|  23:10:00|       QUEENS|   11434|NORTH CONDUIT AVENUE|              2|             0|                  0|                 0|               0|              0|                2|               0|Reaction to Uninv...|     4486635|               Sedan|2021-12-14 23:10:00|\n",
      "|2021-12-11|  19:43:00|        BRONX|   10463|WEST KINGSBRIDGE ...|              1|             0|                  0|                 0|               0|              0|                1|               0|         Unspecified|     4487040|Station Wagon/Spo...|2021-12-11 19:43:00|\n",
      "|2021-12-13|  06:30:00|       QUEENS|   11372|           82 STREET|              0|             0|                  0|                 0|               0|              0|                0|               0|         Unspecified|     4486967|               Sedan|2021-12-13 06:30:00|\n",
      "|2021-12-13|  17:40:00|STATEN ISLAND|   10301|   VICTORY BOULEVARD|              1|             0|                  0|                 0|               0|              0|                1|               0|         Unspecified|     4487001|               Sedan|2021-12-13 17:40:00|\n",
      "|2021-12-14|  17:31:00|     BROOKLYN|   11230|      EAST 18 STREET|              1|             0|                  1|                 0|               0|              0|                0|               0|         Unspecified|     4486516|               Sedan|2021-12-14 17:31:00|\n",
      "|2021-12-14|  12:54:00|     BROOKLYN|   11217|       FULTON STREET|              1|             0|                  0|                 0|               1|              0|                0|               0|         Unspecified|     4487052|               Sedan|2021-12-14 12:54:00|\n",
      "|2021-12-14|  17:15:00|     BROOKLYN|   11211|        GRAND STREET|              1|             0|                  0|                 0|               0|              0|                1|               0|Passing or Lane U...|     4486556|                 Bus|2021-12-14 17:15:00|\n",
      "|2022-04-24|  21:40:00|        BRONX|   10452|      BOSCOBEL PLACE|              0|             0|                  0|                 0|               0|              0|                0|               0| Alcohol Involvement|     4522156|                Taxi|2022-04-24 21:40:00|\n",
      "|2022-04-24|  17:45:00|        BRONX|   10466| BRONX RIVER PARKWAY|              0|             0|                  0|                 0|               0|              0|                0|               0|Driver Inattentio...|     4521633|               Sedan|2022-04-24 17:45:00|\n",
      "|2022-04-24|  00:00:00|        BRONX|   10453|MAJOR DEEGAN EXPR...|              0|             0|                  0|                 0|               0|              0|                0|               0|Driver Inattentio...|     4521801|               Sedan|2022-04-24 00:00:00|\n",
      "|2022-04-24|  15:35:00|    MANHATTAN|   10019|      WEST 56 STREET|              1|             0|                  0|                 0|               1|              0|                0|               0|View Obstructed/L...|     4521853|Station Wagon/Spo...|2022-04-24 15:35:00|\n",
      "|2022-04-22|  12:00:00|     BROOKLYN|   11230|            AVENUE J|              1|             0|                  0|                 0|               0|              0|                1|               0|         Unspecified|     4522228|               Sedan|2022-04-22 12:00:00|\n",
      "|2022-04-24|  04:20:00|     BROOKLYN|   11221|       THROOP AVENUE|              1|             0|                  0|                 0|               0|              0|                1|               0|Traffic Control D...|     4522167|Station Wagon/Spo...|2022-04-24 04:20:00|\n",
      "|2022-04-12|  19:56:00|     BROOKLYN|   11203|        UTICA AVENUE|              1|             0|                  1|                 0|               0|              0|                0|               0|Failure to Yield ...|     4522136|Station Wagon/Spo...|2022-04-12 19:56:00|\n",
      "|2022-04-24|  15:21:00|       QUEENS|   11101|      THOMSON AVENUE|              1|             0|                  0|                 0|               0|              0|                1|               0|Driver Inattentio...|     4521590|               Sedan|2022-04-24 15:21:00|\n",
      "|2022-04-24|  21:00:00|       QUEENS|   11106|           21 STREET|              1|             0|                  0|                 0|               0|              0|                1|               0|Driver Inattentio...|     4521684|               Sedan|2022-04-24 21:00:00|\n",
      "|2022-04-24|  21:40:00|       QUEENS|   11418|      JAMAICA AVENUE|              0|             0|                  0|                 0|               0|              0|                0|               0|Reaction to Uninv...|     4521858|           Ambulance|2022-04-24 21:40:00|\n",
      "|2022-04-07|  14:14:00|    MANHATTAN|   10017|            1 AVENUE|              0|             0|                  0|                 0|               0|              0|                0|               0|Driver Inattentio...|     4522242|               Sedan|2022-04-07 14:14:00|\n",
      "+----------+----------+-------------+--------+--------------------+---------------+--------------+-------------------+------------------+----------------+---------------+-----------------+----------------+--------------------+------------+--------------------+-------------------+\n",
      "only showing top 20 rows\n",
      "\n"
     ]
    }
   ],
   "source": [
    "df.show()"
   ]
  },
  {
   "cell_type": "code",
   "execution_count": 16,
   "id": "71d6cb94-32b4-43de-802e-3b5ddf25d044",
   "metadata": {
    "tags": []
   },
   "outputs": [
    {
     "data": {
      "text/plain": [
       "1107159"
      ]
     },
     "execution_count": 16,
     "metadata": {},
     "output_type": "execute_result"
    }
   ],
   "source": [
    "df.count()"
   ]
  },
  {
   "cell_type": "code",
   "execution_count": 17,
   "id": "fcc5535b-f08b-4579-8de7-bea4cc2add55",
   "metadata": {
    "tags": []
   },
   "outputs": [
    {
     "name": "stdout",
     "output_type": "stream",
     "text": [
      "root\n",
      " |-- crash_date: date (nullable = true)\n",
      " |-- crash_time: string (nullable = true)\n",
      " |-- borough: string (nullable = true)\n",
      " |-- zip_code: integer (nullable = true)\n",
      " |-- street_name: string (nullable = true)\n",
      " |-- persons_injured: integer (nullable = true)\n",
      " |-- persons_killed: integer (nullable = true)\n",
      " |-- pedestrians_injured: integer (nullable = true)\n",
      " |-- pedestrians_killed: integer (nullable = true)\n",
      " |-- cyclists_injured: integer (nullable = true)\n",
      " |-- cyclists_killed: integer (nullable = true)\n",
      " |-- motorists_injured: integer (nullable = true)\n",
      " |-- motorists_killed: integer (nullable = true)\n",
      " |-- contributing_factor: string (nullable = true)\n",
      " |-- collision_id: integer (nullable = true)\n",
      " |-- vehicle_type: string (nullable = true)\n",
      " |-- timestamp: timestamp (nullable = true)\n",
      "\n"
     ]
    }
   ],
   "source": [
    "df.printSchema()"
   ]
  },
  {
   "cell_type": "code",
   "execution_count": 18,
   "id": "9667ac45-be52-47e6-ade0-9f4728534fa4",
   "metadata": {
    "tags": []
   },
   "outputs": [],
   "source": [
    "spark.stop()"
   ]
  },
  {
   "cell_type": "code",
   "execution_count": null,
   "id": "ed418e74-8b17-4c65-94e1-0a12012628d9",
   "metadata": {},
   "outputs": [],
   "source": []
  }
 ],
 "metadata": {
  "kernelspec": {
   "display_name": "Python 3 (ipykernel)",
   "language": "python",
   "name": "python3"
  },
  "language_info": {
   "codemirror_mode": {
    "name": "ipython",
    "version": 3
   },
   "file_extension": ".py",
   "mimetype": "text/x-python",
   "name": "python",
   "nbconvert_exporter": "python",
   "pygments_lexer": "ipython3",
   "version": "3.11.4"
  }
 },
 "nbformat": 4,
 "nbformat_minor": 5
}
